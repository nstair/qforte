{
 "cells": [
  {
   "cell_type": "code",
   "execution_count": 5,
   "id": "spectacular-sphere",
   "metadata": {},
   "outputs": [],
   "source": [
    "import qforte as qf\n",
    "from qforte import *\n",
    "import numpy as np"
   ]
  },
  {
   "cell_type": "markdown",
   "id": "written-cambodia",
   "metadata": {},
   "source": [
    "$$\n",
    "\\newcommand{\\ket}[1]{\\left|{#1}\\right\\rangle}\n",
    "\\newcommand{\\bra}[1]{\\left\\langle{#1}\\right|}\n",
    "\\newcommand{\\cre}[1]{\\hat{a}^{\\dagger}_{#1}}\n",
    "\\newcommand{\\ann}[1]{\\hat{a}_{#1}}\n",
    "$$"
   ]
  },
  {
   "cell_type": "markdown",
   "id": "greenhouse-discharge",
   "metadata": {},
   "source": [
    "# Running jobs with QForte"
   ]
  },
  {
   "cell_type": "markdown",
   "id": "approximate-separate",
   "metadata": {},
   "source": [
    "In this tutorial we are interested in utilizing QForte as a tool to run black-box calculations. We will provide a theoretical overview and example code for how to run multiple quantum algorithms."
   ]
  },
  {
   "cell_type": "markdown",
   "id": "charitable-compensation",
   "metadata": {},
   "source": [
    "## Get molecular Hamiltonain"
   ]
  },
  {
   "cell_type": "markdown",
   "id": "organized-journalist",
   "metadata": {},
   "source": [
    "As we have done before in previous tutorials, we will need to first obtain the QForte `model` object for the system of interest. In this tutorial we will consider the half filled hubbard model.  "
   ]
  },
  {
   "cell_type": "code",
   "execution_count": 6,
   "id": "automatic-russell",
   "metadata": {},
   "outputs": [
    {
     "name": "stdout",
     "output_type": "stream",
     "text": [
      "converged SCF energy = -6.5\n",
      "CASSCF energy = -6.60115829337512\n",
      "CASCI E = -6.60115829337512  E(CI) = -6.60115829337512  S^2 = 0.0000000\n"
     ]
    }
   ],
   "source": [
    "# Define the reference and geometry lists.\n",
    "nel = 6\n",
    "norb = 6\n",
    "J = 1# tunneling 1 body\n",
    "U = 1 # coulomb (2 body)\n",
    "\n",
    "# Get the molecule object that now contains both the fermionic and qubit Hamiltonians.\n",
    "my_hubbard_model = qf.system_factory(\n",
    "    system_type='model',\n",
    "    build_type='fermi_hubbard', \n",
    "    nel = nel,\n",
    "    nsites = norb,\n",
    "    tunneling_term = J, # J\n",
    "    coulomb_term = U,   # U\n",
    "    basis='sto-3g', \n",
    "    run_scf=0,\n",
    "    run_fci=0,\n",
    "    pbc = True)"
   ]
  },
  {
   "cell_type": "markdown",
   "id": "universal-palestinian",
   "metadata": {},
   "source": [
    "## QForte algorithms"
   ]
  },
  {
   "cell_type": "markdown",
   "id": "honest-comparison",
   "metadata": {},
   "source": [
    "QForte contains black-box implementations of the following algorithms:\n",
    "\n",
    "- Disentangled (Trotterized) unitary coupled cluster variational quantum eigensolver (dUCCVQE)\n",
    "  - QForte will treat up to hex-tuple particle-hole excitations (SDTQPH) or generalized singled and doubles (GSD).\n",
    "\n",
    "\n",
    "- Adaptive derivative-assembled pseudo Trotterized VQE (ADAPT-VQE).\n",
    "  \n",
    "  \n",
    "- Disentangled (Trotterized) unitary coupled cluster projective quantum eigensolver (dUCCPQE)\n",
    "  - QForte will treat up to hex-tuple particle-hole excitations (SDTQPH).\n",
    "  \n",
    "  \n",
    "- Selected projective quantum eigensolver (SPQE)\n",
    "\n",
    "\n",
    "- Single reference Quantum Krylov (SRQK)\n",
    "\n",
    "\n",
    "- Multireference selected quantum Krylov diagonalization (MRSQK)\n",
    "\n",
    "\n",
    "- Quantum imaginary time evolution (QITE)\n",
    "\n",
    "\n",
    "- Quantum Lanczos (QL)\n",
    "\n",
    "\n",
    "- Quantum phase estimation (QPE)"
   ]
  },
  {
   "cell_type": "markdown",
   "id": "another-directory",
   "metadata": {},
   "source": [
    "### Example 1:  dUCC-VQE"
   ]
  },
  {
   "cell_type": "markdown",
   "id": "seeing-clark",
   "metadata": {},
   "source": [
    "Similarly to the dUCC-PQE example in tutorial 5, dUCC-VQE likewise considers a factorized (disentangled) form of the UCC ansatz\n",
    "\\begin{equation}\n",
    "\\hat{U}(\\mathbf{t})=\n",
    " \\prod_\\mu e^{ t_\\mu \\hat{\\kappa}_\\mu}.\n",
    "\\end{equation}\n",
    "\n",
    "The VQE energy expectation value is then given as\n",
    "\\begin{equation}\n",
    "E_\\text{VQE}(\\mathbf{t}) = \\bra{\\Phi_0} \\hat{U}^\\dagger(\\mathbf{t}) \\hat{\\mathcal{H}} \\hat{U}(\\mathbf{t}) \\ket{\\Phi_0}.\n",
    "\\end{equation}\n",
    "\n",
    "It is of course possible to perform the optimization using gradient free optimizers (such as Nelder-Mead) or using finite difference, but it is usually preferable to evaluate the gradients $g_\\mu$ of the energy as well.\n",
    "Assuming a that $\\hat{U}(\\mathbf{t})$ generates only a real wave function, the gradients are given by\n",
    "\n",
    "\\begin{equation}\n",
    "\\begin{split}\n",
    "g_\\mu = \\frac{\\partial E_\\mathrm{VQE}(\\mathbf{t})}{\\partial t_\\mu} = &\n",
    "2 \\, \\mathrm{Re} \\bra{\\Phi_0}  \\hat{U}^\\dagger(\\mathbf{t}) \\hat{H} \\frac{\\partial \\hat{U}(\\mathbf{t})}{\\partial t_\\mu}  \\ket{\\Phi_0}\n",
    "\\end{split}\n",
    "\\end{equation}\n",
    "\n",
    "In QForte, running an algorithm is simple and can be done with just a few lines. First one instantiates an `algorithm` object by passing the molecule and reference lst. Then one calls `algorithm.run()` passing arguments that specify the run parameters.\n",
    "\n",
    "> Run a dUCCSD-VQE calculation."
   ]
  },
  {
   "cell_type": "code",
   "execution_count": 7,
   "id": "behind-checkout",
   "metadata": {},
   "outputs": [],
   "source": [
    "# # Run the dUCCSD-PQE algorithm.\n",
    "# alg = UCCNPQE(my_hubbard_model)\n",
    "# alg.run(opt_thresh=1.0e-2, pool_type='SDTQ')\n",
    "# print(f'\\n\\n Efci:   {my_hubbard_model.fci_energy:+12.10f}')"
   ]
  },
  {
   "cell_type": "markdown",
   "id": "previous-variety",
   "metadata": {},
   "source": [
    "### Example 2: SRQK"
   ]
  },
  {
   "cell_type": "markdown",
   "id": "distinguished-savings",
   "metadata": {},
   "source": [
    "In a single reference quantum Krylov algorithm, a general state is written as a linear combination of the basis $\\{ \\psi_\\alpha \\}$ generated from the action of the (real) time evolution operator $e^{-i n \\Delta t \\hat{\\mathcal{H}}}$ on a reference state $\\ket{\\Phi_0}$ as\n",
    "\\begin{equation}\n",
    "\\ket{\\Psi} = \\sum_n  c_n \\ket{\\psi_n} = \\sum_{n=0}^{s} c_n e^{-i n \\Delta t \\hat{\\mathcal{H}}} \\ket{\\Phi_0}. \n",
    "\\end{equation}\n",
    "\n",
    "Variational minimization of the energy of the state $\\Psi$ leads to the following generalized eigenvalue problem\n",
    "\\begin{equation}\n",
    "\\label{eq:gep}\n",
    "\\mathbf{Hc} = \\mathbf{Sc} E,\n",
    "\\end{equation}\n",
    "\n",
    "where the elements of the overlap matrix ($\\mathbf{S}$) and Hamiltonian ($\\mathbf{H}$) are given by\n",
    "\\begin{align}\n",
    "\\label{eq:overlap}\n",
    "S_{\\alpha\\beta} &= \\langle \\psi_\\alpha | \\psi_\\beta \\rangle\n",
    "= \\langle \\Phi_{I} | \\hat{U}^\\dagger_m \\hat{U}_n |\\Phi_J \\rangle,\\\\\n",
    "\\label{eq:hamiltonian}\n",
    "H_{\\alpha\\beta} &= \\langle \\psi_\\alpha | \\hat{H} | \\psi_\\beta \\rangle\n",
    "= \\langle \\Phi_{I} | \\hat{U}^\\dagger_m \\hat{H} \\hat{U}_n |\\Phi_{J} \\rangle.\n",
    "\\end{align} \n",
    "\n",
    "This approach forms a basis which is very similar to a classical Krylov basis in the small time-step regime, and may also be thought of as a quantum version of classical filter diagonalization.\n",
    "\n",
    "> Run a SRQK calculation."
   ]
  },
  {
   "cell_type": "code",
   "execution_count": 8,
   "id": "dynamic-crazy",
   "metadata": {},
   "outputs": [
    {
     "name": "stdout",
     "output_type": "stream",
     "text": [
      "\n",
      "-----------------------------------------------------\n",
      "           Single Reference Quantum Krylov   \n",
      "-----------------------------------------------------\n",
      "\n",
      "\n",
      "                     ==> QK options <==\n",
      "-----------------------------------------------------------\n",
      "Trial reference state:                    |111111000000>\n",
      "Number of Hamiltonian Pauli terms:        533\n",
      "Trial state preparation method:           occupation_list\n",
      "Trotter order (rho):                      1\n",
      "Trotter number (m):                       1\n",
      "Use exact time evolution?:                False\n",
      "Use fast version of algorithm:            True\n",
      "Measurement varience thresh:              NA\n",
      "Dimension of Krylov space (N):            8\n",
      "Delta t (in a.u.):                        0.5\n",
      "Target root:                              0\n",
      "\n",
      "\n",
      "\n",
      "   k(S)            E(Npar)     N(params)           N(CNOT)          N(measure)\n",
      "-------------------------------------------------------------------------------\n",
      " 1.00e+00       -6.500000000           1                 0                 533\n",
      " 4.86e+02       -6.586950057           2                 0                2134\n",
      " 4.81e+04       -6.589003683           3                 0                4803\n",
      " 3.55e+06       -6.589621790           4                 0                8540\n",
      " 2.44e+08       -6.589748195           5                 0               13345\n",
      " 1.54e+10       -6.589913829           6                 0               19218\n",
      " 1.28e+12       -6.591981086           7                 0               26159\n",
      " 1.03e+14       -6.592257962           8                 0               34168\n",
      "\n",
      "       ==> SRQK eigenvalues <==\n",
      "----------------------------------------\n",
      "  root  0  -6.59225796    0.00000000j\n",
      "  root  1  -2.62368737    -0.00000000j\n",
      "  root  2  -0.93195918    -0.00000000j\n",
      "  root  3  -0.31488668    -0.00000000j\n",
      "  root  4  1.59541749    -0.00000001j\n",
      "  root  5  3.65918970    -0.00000001j\n",
      "  root  6  5.85937235    -0.00000000j\n",
      "  root  7  9.38777368    -0.00000000j\n",
      "\n",
      "\n",
      "                     ==> QK summary <==\n",
      "-----------------------------------------------------------\n",
      "Condition number of overlap mat k(S):       1.03e+14\n",
      "Final SRQK ground state Energy:            -6.5922579621\n",
      "Final SRQK target state Energy:            -6.5922579621\n",
      "Number of classical parameters used:        8\n",
      "Number of CNOT gates in deepest circuit:    0\n",
      "Number of Pauli term measurements:          34168\n",
      "[-6.5        -6.58695006 -6.58900368 -6.58962179 -6.5897482  -6.58991383\n",
      " -6.59198109 -6.59225796]\n",
      "\n",
      " Efci:   -6.6011582934\n",
      " Escf:   -6.5000000000\n"
     ]
    }
   ],
   "source": [
    "# Run a single reference QK calculation.\n",
    "alg = SRQK(\n",
    "    my_hubbard_model,\n",
    "    computer_type='fci',\n",
    "    print_summary_file=True)\n",
    "dt=[0, 0.1, 0.10000001, 1.1, 1.10000001, 0.43200428551417447, 0.43200429551417446, 0.21032297902868993]\n",
    "\n",
    "alg.run(s=len(dt)-1,\n",
    "target_root=0,\n",
    "diagonalize_each_step=True)\n",
    "data = np.loadtxt(\"summary.dat\")\n",
    "print(data[:,1])\n",
    "print(f'\\n Efci:   {my_hubbard_model.fci_energy:+12.10f}')\n",
    "print(f' Escf:   {my_hubbard_model.hf_energy:+12.10f}')"
   ]
  },
  {
   "cell_type": "code",
   "execution_count": 9,
   "id": "69ac4042",
   "metadata": {},
   "outputs": [
    {
     "name": "stdout",
     "output_type": "stream",
     "text": [
      "[-6.5        -6.58695006 -6.58900368 -6.58962179 -6.5897482  -6.58991383\n",
      " -6.59198109 -6.59225796]\n"
     ]
    }
   ],
   "source": [
    "data = np.loadtxt(\"summary.dat\")\n",
    "print(data[:,1])"
   ]
  }
 ],
 "metadata": {
  "kernelspec": {
   "display_name": "qf_env",
   "language": "python",
   "name": "python3"
  },
  "language_info": {
   "codemirror_mode": {
    "name": "ipython",
    "version": 3
   },
   "file_extension": ".py",
   "mimetype": "text/x-python",
   "name": "python",
   "nbconvert_exporter": "python",
   "pygments_lexer": "ipython3",
   "version": "3.8.18"
  }
 },
 "nbformat": 4,
 "nbformat_minor": 5
}
